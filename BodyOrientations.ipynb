{
 "cells": [
  {
   "cell_type": "markdown",
   "id": "9b7d1da8-2f33-44f2-add0-eee266c24d54",
   "metadata": {},
   "source": [
    "# Reproducing plot from Body Orientation post-processed data set"
   ]
  },
  {
   "cell_type": "markdown",
   "id": "cc9424f9-0c94-4b4b-a1b9-ea21024b6bf6",
   "metadata": {},
   "source": [
    "The goal is to visualize the results from the Body Orientation assesment experiment. For doing so, the function to create the plot and the dataset are provided. \n",
    "\n",
    "First, import the libraries to create the plot. The plot contains location points with the body orientation represented by an arrow. The **Wedge** represents the field of view of the depth camera. "
   ]
  },
  {
   "cell_type": "code",
   "execution_count": 5,
   "id": "14d7f8e0-6da4-4eeb-8c49-faf590d38dd1",
   "metadata": {},
   "outputs": [],
   "source": [
    "import matplotlib\n",
    "import matplotlib.cm as cm\n",
    "import matplotlib.colors as mcolors\n",
    "import matplotlib.colorbar as mcolorbar\n",
    "import matplotlib.pyplot as plt\n",
    "from matplotlib.patches import Wedge\n",
    "%matplotlib widget"
   ]
  },
  {
   "cell_type": "markdown",
   "id": "0f9e5159-4931-4259-a1ce-0d9c39bade66",
   "metadata": {},
   "source": [
    "Additionally, to process the data set it is necessary to import the following libraries:"
   ]
  },
  {
   "cell_type": "code",
   "execution_count": 6,
   "id": "934a1148-5a17-49c7-95fa-e01085b08e22",
   "metadata": {},
   "outputs": [],
   "source": [
    "import seaborn as sns\n",
    "import sklearn\n",
    "import pandas as pd\n",
    "import numpy as np"
   ]
  },
  {
   "cell_type": "markdown",
   "id": "71f918f1-8605-46b5-80d3-85d46eaa6dd7",
   "metadata": {},
   "source": [
    "Next, we define the plotting configuration function. The function handles the titles and the colors per body orientation **type**."
   ]
  },
  {
   "cell_type": "code",
   "execution_count": 7,
   "id": "d1c15337-2212-4c3b-9a4f-5b8f0752c4d0",
   "metadata": {},
   "outputs": [],
   "source": [
    "def plot_conf(type):\n",
    "    choices = {'back': 'dodgerblue', 'backd': 'navy', 'frontal': 'seagreen', 'frontald': 'lightseagreen'}\n",
    "    titles = {'sider': 'Side Right',\n",
    "               'backdr': 'Back Diagonal Right',\n",
    "               'back': 'Back',\n",
    "               'backdl': 'Back Diagonal Left',\n",
    "               'sidel': 'Side Left',\n",
    "               'frontaldl': 'Frontal Diagonal Left',\n",
    "               'frontal': 'Frontal',\n",
    "               'frontaldr': 'Frontal Diagonal Right',\n",
    "               'pairinter':'Pair view intersection',\n",
    "               'formations': 'Group movement stops'\n",
    "               }\n",
    "    ranges = {'sider': '[-22.5°,0°),[0°,22.5°)',\n",
    "               'backdr': '[22.5°,67.5°)',\n",
    "               'back': '[67.5°,112.5°)',\n",
    "               'backdl': '[112.5°,157.5°)',\n",
    "               'sidel': '[157.5°,180°),(-180°,157.5°]',\n",
    "               'frontaldl': '[-157.5°, -112.5°)',\n",
    "               'frontal': '[-112.5°, -67.5°)',\n",
    "               'frontaldr': '[-67.5°, -22.5°)'\n",
    "               }\n",
    "        \n",
    "    shade_color = choices.get(type, 'purple')\n",
    "    title = titles.get(type, 'Body')\n",
    "    range_title=ranges.get(type,' ')\n",
    "    \n",
    "    return shade_color, title, range_title"
   ]
  },
  {
   "cell_type": "markdown",
   "id": "9d31147d-4134-4311-ab1d-5345fda61e0a",
   "metadata": {},
   "source": [
    "For drawing the calculated body orientation from the skeleton joints, we calculate the vectors for the quiver function. Later, we setup the depth sensor's field of view."
   ]
  },
  {
   "cell_type": "code",
   "execution_count": 8,
   "id": "d687a700-ff07-4513-bbee-a5c4b665ee81",
   "metadata": {},
   "outputs": [],
   "source": [
    "def angle_cloud(data_kinect, shade_color, title,range_title, type):\n",
    "  \n",
    "    U = np.cos((data_kinect['re_body_angle']) )\n",
    "    V = np.sin((data_kinect['re_body_angle']) )\n",
    "\n",
    "    sns.set()\n",
    "\n",
    "    norm = matplotlib.colors.Normalize()\n",
    "    norm.autoscale(data_kinect['re_body_angle'])\n",
    "    cm = matplotlib.cm.viridis\n",
    "\n",
    "    sm = matplotlib.cm.ScalarMappable(cmap=cm, norm=norm)\n",
    "    sm.set_array([])\n",
    "\n",
    "    fig, ax = plt.subplots()\n",
    "\n",
    "    ax.quiver(data_kinect['shl_x'], data_kinect['shl_y'], U, V, angles=data_kinect['re_body_angle'], color=cm(norm(data_kinect['re_body_angle'])), units='xy',pivot='middle')\n",
    "\n",
    "    ax.axis(xmin=-3, xmax=3)\n",
    "    ax.axis(ymin=-0.5, ymax=4.5)\n",
    "\n",
    "    fov = Wedge(center=(0, 0), r=4.895, theta1=55, theta2=125, color=shade_color, alpha=0.05)\n",
    "    ax.add_artist(fov)\n",
    "\n",
    "    plt.ylabel('(Y) Distance from Origin')\n",
    "    plt.xlabel('(X) Distance from Origin')\n",
    "    plt.title('Body Orientation' +type+': '+title+'\\n Accepted angle range '+range_title)\n",
    "\n",
    "    cax, _ = mcolorbar.make_axes(plt.gca())\n",
    "    cb = mcolorbar.ColorbarBase(cax, cmap=matplotlib.cm.viridis, norm=norm)\n",
    "    cb.set_label('Body Orientation angle')\n",
    "\n",
    "    return plt"
   ]
  },
  {
   "cell_type": "markdown",
   "id": "dc02d908-651f-43b2-81db-62eddf620138",
   "metadata": {},
   "source": [
    "The data is available in the folder *data*. It's a postprocessed file containing information about the body detected:\n",
    "- ID_exp: identifier experiment\n",
    "- date_exp: date and time of the sample\n",
    "- Description: evaluated body orientation\n",
    "- ID_subject: unique body identifier\n",
    "- height: body height\n",
    "- time: hh:mm:ss.ms formated time for the sample\n",
    "- joints: object with coordinates x,y,z for each body joint.\n",
    "- posture: detected body posture\n",
    "- re_body_angle: calculated body angle\n",
    "- origin_x and y: transformed location coordinates in the global reference system\n",
    "- Coordinates for shoulder joints (sh_x,sh_y) where *r* refers to right and *l* to left. \n",
    "- Coordinates for spine (sp_x, y)"
   ]
  },
  {
   "cell_type": "code",
   "execution_count": 9,
   "id": "75c594eb-a4b4-4a2a-963d-ef0f84c80d17",
   "metadata": {},
   "outputs": [
    {
     "name": "stdout",
     "output_type": "stream",
     "text": [
      "      ID_row     ID_exp                    date_exp description  ID_subject  \\\n",
      "0          0  AW_221120  2020-11-22 14:56:17.129877   frontaldl  4037934527   \n",
      "1          3  AW_221120  2020-11-22 14:56:17.791148   frontaldl  4037934527   \n",
      "2          5  AW_221120  2020-11-22 14:56:18.224701   frontaldl  4037934527   \n",
      "3          8  AW_221120  2020-11-22 14:56:18.889080   frontaldl  4037934527   \n",
      "4         13  AW_221120  2020-11-22 14:56:19.986436   frontaldl  4037934527   \n",
      "...      ...        ...                         ...         ...         ...   \n",
      "1617    1980  AW_171220  2020-12-17 05:12:45.384457   frontaldl  4037937090   \n",
      "1618    1981  AW_171220  2020-12-17 05:12:45.603111   frontaldl  4037937090   \n",
      "1619    1982  AW_171220  2020-12-17 05:12:45.835644   frontaldl  4037937090   \n",
      "1620    1983  AW_171220  2020-12-17 05:12:46.069020   frontaldl  4037937090   \n",
      "1621    1984  AW_171220  2020-12-17 05:12:46.278443   frontaldl  4037937090   \n",
      "\n",
      "      height              time  \\\n",
      "0      1.771  14:56:17.1298775   \n",
      "1      1.509  14:56:17.7911481   \n",
      "2      1.510  14:56:18.2247018   \n",
      "3      1.469  14:56:18.8890807   \n",
      "4      1.552  14:56:19.9864360   \n",
      "...      ...               ...   \n",
      "1617   1.131  05:12:45.3844574   \n",
      "1618   1.058  05:12:45.6031113   \n",
      "1619   1.085  05:12:45.8356442   \n",
      "1620   1.098  05:12:46.0690201   \n",
      "1621   1.020  05:12:46.2784434   \n",
      "\n",
      "                                                 joints  pitch  yaw  ...  \\\n",
      "0     {'SpineBase': [0.7802435, -0.310576767, 1.6055...      0    0  ...   \n",
      "1     {'SpineBase': [0.6077528, -0.199228957, 1.4198...      0    0  ...   \n",
      "2     {'SpineBase': [0.6044646, -0.190732852, 1.4195...      0    0  ...   \n",
      "3     {'SpineBase': [0.5710541, -0.210161433, 1.4197...    -50  -40  ...   \n",
      "4     {'SpineBase': [0.748741448, -0.1031737, 1.7066...      0    0  ...   \n",
      "...                                                 ...    ...  ...  ...   \n",
      "1617  {'SpineBase': [1.731254, 0.133948311, 3.144136...     25  -50  ...   \n",
      "1618  {'SpineBase': [1.746764, 0.102704786, 3.065436...    -25  -45  ...   \n",
      "1619  {'SpineBase': [1.70749247, 0.0565419048, 2.924...      0    0  ...   \n",
      "1620  {'SpineBase': [1.66463673, 0.02787204, 2.77058...      0  -45  ...   \n",
      "1621  {'SpineBase': [1.65630722, -0.01796548, 2.6921...      0    0  ...   \n",
      "\n",
      "         posture  re_body_angle origin_x  origin_y  shr_x  shr_y  shl_x  \\\n",
      "0     Scratching        -110.40   -0.729     1.445 -0.788  1.325 -0.564   \n",
      "1     Scratching        -121.35   -0.629     1.318 -0.754  1.344 -0.544   \n",
      "2     Scratching        -120.47   -0.620     1.317 -0.745  1.342 -0.531   \n",
      "3     Scratching        -119.98   -0.590     1.306 -0.699  1.310 -0.507   \n",
      "4     Scratching        -120.15   -0.770     1.586 -0.891  1.581 -0.684   \n",
      "...          ...            ...      ...       ...    ...    ...    ...   \n",
      "1617   Undefined        -110.73   -1.753     3.102 -1.905  3.133 -1.657   \n",
      "1618   Undefined        -107.90   -1.765     3.018 -1.916  3.034 -1.686   \n",
      "1619   Undefined        -113.09   -1.729     2.881 -1.882  2.909 -1.671   \n",
      "1620   Undefined        -106.36   -1.690     2.735 -1.836  2.758 -1.633   \n",
      "1621   Undefined        -112.34   -1.678     2.655 -1.828  2.678 -1.582   \n",
      "\n",
      "      shl_y   sp_x   sp_y  \n",
      "0     1.242 -0.689  1.311  \n",
      "1     1.216 -0.640  1.237  \n",
      "2     1.216 -0.627  1.235  \n",
      "3     1.199 -0.599  1.217  \n",
      "4     1.461 -0.782  1.491  \n",
      "...     ...    ...    ...  \n",
      "1617  3.039 -1.767  3.066  \n",
      "1618  2.960 -1.777  2.979  \n",
      "1619  2.819 -1.742  2.845  \n",
      "1620  2.698 -1.707  2.704  \n",
      "1621  2.576 -1.692  2.623  \n",
      "\n",
      "[1622 rows x 22 columns]\n"
     ]
    }
   ],
   "source": [
    "data_kinect = pd.read_csv(\"data/frontaldl_processed_data_frontaldl.csv\",sep=';') \n",
    "data_kinect.reset_index(drop=True)\n",
    "print(data_kinect)\n"
   ]
  },
  {
   "cell_type": "markdown",
   "id": "83983539-3bbc-44f6-b1f3-f65c38536c71",
   "metadata": {},
   "source": [
    "To create the plot, specify the type of Body Orientation that would be processed. In this case, we have the *Frontal Diagonal Left* dataset. With this, the colors and titles are defined:"
   ]
  },
  {
   "cell_type": "code",
   "execution_count": 10,
   "id": "f516128a-16f5-44ad-b392-06988af56e25",
   "metadata": {},
   "outputs": [
    {
     "data": {
      "application/vnd.jupyter.widget-view+json": {
       "model_id": "f3885e5c4b8240999715cac7f2717630",
       "version_major": 2,
       "version_minor": 0
      },
      "text/plain": [
       "Canvas(toolbar=Toolbar(toolitems=[('Home', 'Reset original view', 'home', 'home'), ('Back', 'Back to previous …"
      ]
     },
     "metadata": {},
     "output_type": "display_data"
    }
   ],
   "source": [
    "type='frontaldl'\n",
    "shade_color, title, range_title= plot_conf(type)\n",
    "angle_cloud(data_kinect, shade_color, title, range_title, type).show()"
   ]
  },
  {
   "cell_type": "code",
   "execution_count": null,
   "id": "681e1fdd-ae18-4b07-b415-9a21a4b7691b",
   "metadata": {},
   "outputs": [],
   "source": []
  }
 ],
 "metadata": {
  "kernelspec": {
   "display_name": "Python 3",
   "language": "python",
   "name": "python3"
  },
  "language_info": {
   "codemirror_mode": {
    "name": "ipython",
    "version": 3
   },
   "file_extension": ".py",
   "mimetype": "text/x-python",
   "name": "python",
   "nbconvert_exporter": "python",
   "pygments_lexer": "ipython3",
   "version": "3.8.8"
  }
 },
 "nbformat": 4,
 "nbformat_minor": 5
}
